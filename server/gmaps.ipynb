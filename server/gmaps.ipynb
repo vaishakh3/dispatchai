{
 "cells": [
  {
   "cell_type": "code",
   "execution_count": 12,
   "metadata": {},
   "outputs": [
    {
     "name": "stdout",
     "output_type": "stream",
     "text": [
      "37.8715226 -122.273042\n"
     ]
    }
   ],
   "source": [
    "import dotenv\n",
    "\n",
    "dotenv.load_dotenv()\n",
    "from geocoding import geocode, street_view\n",
    "\n",
    "\n",
    "res = geocode(\"berkeley, ca\")\n",
    "lat = res[0][\"geometry\"][\"location\"][\"lat\"]\n",
    "lon = res[0][\"geometry\"][\"location\"][\"lng\"]\n",
    "print(lat, lon)\n",
    "img = street_view(lat, lon)\n",
    "with open(\"street_view.jpg\", \"wb\") as f:\n",
    "    f.write(img)"
   ]
  }
 ],
 "metadata": {
  "kernelspec": {
   "display_name": "calhacks",
   "language": "python",
   "name": "python3"
  },
  "language_info": {
   "codemirror_mode": {
    "name": "ipython",
    "version": 3
   },
   "file_extension": ".py",
   "mimetype": "text/x-python",
   "name": "python",
   "nbconvert_exporter": "python",
   "pygments_lexer": "ipython3",
   "version": "3.10.13"
  }
 },
 "nbformat": 4,
 "nbformat_minor": 2
}
