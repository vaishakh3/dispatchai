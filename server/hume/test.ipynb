{
 "cells": [
  {
   "cell_type": "code",
   "execution_count": 1,
   "metadata": {},
   "outputs": [
    {
     "name": "stdout",
     "output_type": "stream",
     "text": [
      "{\"type\": \"assistant_input\", \"text\": \"Hello\"}\n",
      "{\"type\": \"assistant_input\", \"text\": \"! As\"}\n",
      "{\"type\": \"assistant_input\", \"text\": \" an AI\"}\n",
      "{\"type\": \"assistant_input\", \"text\": \" language\"}\n",
      "{\"type\": \"assistant_input\", \"text\": \" model, I don\"}\n",
      "{\"type\": \"assistant_input\", \"text\": \"'t have\"}\n",
      "{\"type\": \"assistant_input\", \"text\": \" feelings\"}\n",
      "{\"type\": \"assistant_input\", \"text\": \",\"}\n",
      "{\"type\": \"assistant_input\", \"text\": \" but I'm functioning\"}\n",
      "{\"type\": \"assistant_input\", \"text\": \" well\"}\n",
      "{\"type\": \"assistant_input\", \"text\": \" an\"}\n",
      "{\"type\": \"assistant_input\", \"text\": \"d ready\"}\n",
      "{\"type\": \"assistant_input\", \"text\": \" to assist you.\"}\n",
      "{\"type\": \"assistant_input\", \"text\": \" How can\"}\n",
      "{\"type\": \"assistant_input\", \"text\": \" I help you today\"}\n",
      "{\"type\": \"assistant_input\", \"text\": \"?\"}\n",
      "{\"type\": \"assistant_end\"}\n"
     ]
    }
   ],
   "source": [
    "import dotenv\n",
    "\n",
    "dotenv.load_dotenv()\n",
    "\n",
    "from agent import Agent\n",
    "\n",
    "agent = Agent(system_prompt=\"You are an agent that can help with tasks\")\n",
    "\n",
    "response = agent.get_responses(\"Hello, how are you?\")\n",
    "async for chunk in response:\n",
    "    print(chunk)"
   ]
  }
 ],
 "metadata": {
  "kernelspec": {
   "display_name": "calhacks",
   "language": "python",
   "name": "python3"
  },
  "language_info": {
   "codemirror_mode": {
    "name": "ipython",
    "version": 3
   },
   "file_extension": ".py",
   "mimetype": "text/x-python",
   "name": "python",
   "nbconvert_exporter": "python",
   "pygments_lexer": "ipython3",
   "version": "3.10.13"
  }
 },
 "nbformat": 4,
 "nbformat_minor": 2
}
