{
 "cells": [
  {
   "cell_type": "code",
   "execution_count": 4,
   "metadata": {},
   "outputs": [],
   "source": [
    "from dotenv import load_dotenv\n",
    "import os\n",
    "import websockets\n",
    "import json\n",
    "load_dotenv()\n",
    "HUME_API_KEY = os.getenv(\"HUME_API_KEY\")\n",
    "\n",
    "transcript = \"\"\"\n",
    "Hi, I... I’m bleeding really badly. I need help.\n",
    "\"\"\""
   ]
  },
  {
   "cell_type": "code",
   "execution_count": 5,
   "metadata": {},
   "outputs": [],
   "source": [
    "websocket_url = f\"wss://api.hume.ai/v0/stream/models\""
   ]
  },
  {
   "cell_type": "code",
   "execution_count": 17,
   "metadata": {},
   "outputs": [
    {
     "name": "stdout",
     "output_type": "stream",
     "text": [
      "\n",
      "Hi, I... I’m bleeding really badly. I need help.\n",
      "\n",
      "Top Three Emotions for the Entire Text: [('Pain', 0.5748002013650775), ('Distress', 0.4501630634121183), ('Sadness', 0.20735129240589836)]\n"
     ]
    }
   ],
   "source": [
    "async with websockets.connect(websocket_url, extra_headers={\"X-Hume-Api-Key\": HUME_API_KEY}) as websocket: \n",
    "    await websocket.send(json.dumps({\n",
    "        \"data\": transcript,\n",
    "        \"models\": {\n",
    "            \"language\": {}\n",
    "        },\n",
    "        \"raw_text\": True\n",
    "        }))\n",
    "    data = await websocket.recv()\n",
    "    response_data = json.loads(data)\n",
    "    # Aggregating emotions across all words and calculating the average score for each emotion\n",
    "    emotions_data = response_data.get(\"language\", {}).get(\"predictions\", [])\n",
    "    emotion_scores = {}\n",
    "    total_words = len(emotions_data)\n",
    "\n",
    "    for word_data in emotions_data:\n",
    "        word_emotions = word_data.get(\"emotions\", [])\n",
    "        for emotion in word_emotions:\n",
    "            if emotion['name'] in emotion_scores:\n",
    "                emotion_scores[emotion['name']] += emotion['score']\n",
    "            else:\n",
    "                emotion_scores[emotion['name']] = emotion['score']\n",
    "\n",
    "    # Calculating average scores\n",
    "    for emotion in emotion_scores:\n",
    "        emotion_scores[emotion] /= total_words\n",
    "\n",
    "    # Sorting and selecting the top three emotions for the entire text chunk\n",
    "    top_three_overall_emotions = sorted(emotion_scores.items(), key=lambda item: item[1], reverse=True)[:3]\n",
    "    print(transcript)\n",
    "    print(\"Top Three Emotions for the Entire Text:\", top_three_overall_emotions)\n"
   ]
  }
 ],
 "metadata": {
  "kernelspec": {
   "display_name": "calhacks",
   "language": "python",
   "name": "python3"
  },
  "language_info": {
   "codemirror_mode": {
    "name": "ipython",
    "version": 3
   },
   "file_extension": ".py",
   "mimetype": "text/x-python",
   "name": "python",
   "nbconvert_exporter": "python",
   "pygments_lexer": "ipython3",
   "version": "3.10.13"
  }
 },
 "nbformat": 4,
 "nbformat_minor": 2
}
